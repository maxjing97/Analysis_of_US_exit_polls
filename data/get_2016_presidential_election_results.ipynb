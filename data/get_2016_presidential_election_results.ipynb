{
 "cells": [
  {
   "cell_type": "markdown",
   "metadata": {},
   "source": [
    "# getting presidential election exit poll results"
   ]
  },
  {
   "cell_type": "markdown",
   "metadata": {},
   "source": [
    "This jupyter notebook is not used directly by the web application but this is how data is scraped from the website. "
   ]
  },
  {
   "cell_type": "markdown",
   "metadata": {},
   "source": [
    "## scraping exit poll data from CNN"
   ]
  },
  {
   "cell_type": "code",
   "execution_count": 34,
   "metadata": {},
   "outputs": [
    {
     "name": "stderr",
     "output_type": "stream",
     "text": [
      "C:\\Users\\maxji\\AppData\\Local\\Temp\\ipykernel_16340\\449253272.py:10: DeprecationWarning: headless property is deprecated, instead use add_argument('--headless') or add_argument('--headless=new')\n",
      "  options.headless = True\n"
     ]
    }
   ],
   "source": [
    "#connecting to the url \n",
    "import pandas as pd\n",
    "from selenium import webdriver\n",
    "from selenium.webdriver.common.keys import Keys\n",
    "from selenium.webdriver.common.by import By\n",
    "from selenium import webdriver\n",
    "from selenium.webdriver.chrome.options import Options\n",
    "\n",
    "options = Options()\n",
    "options.headless = True\n",
    "options.add_argument(\"--window-size=1920,1200\")\n",
    "driver=webdriver.Chrome(options=options)\n",
    "\n",
    "area = \"ohio\" #this is the area, national here, can be change to any valid state that is available on the website\n",
    "url=\"https://www.cnn.com/election/2016/results/exit-polls/\"+area+\"/president\"\n",
    "driver.get(url)\n",
    "\n"
   ]
  },
  {
   "cell_type": "code",
   "execution_count": 35,
   "metadata": {},
   "outputs": [],
   "source": [
    "#locating all divs that contain tables and the name of the table, according to the format of the website\n",
    "\n",
    "all_tables = driver.find_element(By.XPATH, \"//div[@class='exit-poll-list exit-poll-list--framed']\")#setting the div that wraps all the tables\n",
    "table_divs = all_tables.find_elements(By.XPATH, \"//div[contains(@class, 'exit-poll-table exit-poll-table--framed')]\") #finding the list of separate table divs from the container found above"
   ]
  },
  {
   "cell_type": "code",
   "execution_count": 28,
   "metadata": {},
   "outputs": [
    {
     "name": "stdout",
     "output_type": "stream",
     "text": [
      "68\n"
     ]
    }
   ],
   "source": [
    "print(len(table_divs))"
   ]
  },
  {
   "cell_type": "code",
   "execution_count": 36,
   "metadata": {},
   "outputs": [
    {
     "name": "stderr",
     "output_type": "stream",
     "text": [
      "A subdirectory or file 2016_presidential_data already exists.\n"
     ]
    },
    {
     "name": "stdout",
     "output_type": "stream",
     "text": [
      "current header:  gender\n",
      "current header:  age\n",
      "current header:  age\n",
      "current header:  age\n",
      "current header:  race\n",
      "current header:  race\n",
      "current header:  area type\n"
     ]
    }
   ],
   "source": [
    "#extracting the data by looping through the table divs\n",
    "\n",
    "#make a new folder \n",
    "main_path = \"2016_presidential_data\"\n",
    "!mkdir {main_path}\n",
    "#categories to save csv data for\n",
    "\n",
    "#create a new directory\n",
    "for table_div in table_divs:\n",
    "    #find current header or the table name\n",
    "    header = str(table_div.find_element(By.TAG_NAME, \"h3\").text) #get current \n",
    "    #only save data that belongs to these categories\n",
    "    categories = [\"gender\", \"age\", \"race\", \"area type\"]\n",
    "    if header in categories:\n",
    "        print(\"current header: \", header)\n",
    "        columns = []#define dataframe columns which will be used to write to a csv file\n",
    "\n",
    "        #the first row defines the columns of the csv file, with the first part being the \n",
    "        header_row = table_div.find_element(By.TAG_NAME, \"thead\")\n",
    "        header_data = header_row.find_elements(By.TAG_NAME, \"th\") #data entries in header rows\n",
    "        for i in range (len(header_data)): \n",
    "            #in these tables, the first entry in the header row is empty, so add content \n",
    "            if i == 0:\n",
    "                columns.append(\"sample percentage and category\")\n",
    "            else: \n",
    "                current_text =str(header_data[i].text)\n",
    "                #this particular datafile does not have the candicates capitalized, so do it\n",
    "                current_text = current_text.replace(\"clinton\", \"Clinton\")\n",
    "                current_text = current_text.replace(\"trump\", \"Trump\")\n",
    "                columns.append(\"% for \" + current_text)\n",
    "        #find the body rows\n",
    "        #setting the data to write\n",
    "        write_data = []\n",
    "\n",
    "        body_rows = table_div.find_element(By.TAG_NAME, \"tbody\")\n",
    "        body_rows = body_rows.find_elements(By.TAG_NAME, \"tr\")\n",
    "        num_rows = len(body_rows) #number of rows\n",
    "        for row in body_rows:\n",
    "            curr_row_data = [] #data for the current row\n",
    "            row_data = row.find_elements(By.TAG_NAME, \"td\") #find data in these rows\n",
    "            for i in range(len(row_data)):\n",
    "                data = row_data[i]\n",
    "                #if the column is the first one, remove the \\n\n",
    "                if i == 0:  \n",
    "                    curr_row_data.append(data.text.replace(\"\\n\", \": \"))\n",
    "                else: \n",
    "                    #remove the percentage sign and convert to a float, if this fails put a 0.0\n",
    "                    try:\n",
    "                        curr_row_data.append(float(data.text.replace(\"%\", \"\")))\n",
    "                    except:\n",
    "                        curr_row_data.append(float(0.0))\n",
    "            write_data.append(curr_row_data) \n",
    "        \n",
    "        #add a row to represent the total percentages\n",
    "        total_percentages = [\"predicted % total vote share\"]\n",
    "        #iterate through rows of the data file, doing a weighted average calculation to add a row for the total estimated percentage\n",
    "        for i in range(len(write_data)):\n",
    "            current_row = write_data[i]\n",
    "            #the first element contains the actual percentage of each row, extract this\n",
    "            sample_percent = current_row[0].split(\":\")[1].strip()\n",
    "            sample_percent = float(sample_percent.replace(\"%\", \"\"))/100 #remove percentage symbol and divide by 100\n",
    "            \n",
    "            #iterate through the rest of the columns\n",
    "            for j in range(1, len(current_row)):\n",
    "                current_value = float(current_row[j])\n",
    "                if i == 0: #for the first row just append the values times the sample percentage\n",
    "                    total_percentages.append(current_value * sample_percent)\n",
    "                else: \n",
    "                    total_percentages[j] = total_percentages[j] + current_value * sample_percent #else, add the averages\n",
    "        write_data.append(total_percentages) #append the total percentages row\n",
    "\n",
    "\n",
    "        #create the dataframe and save the file\n",
    "        df = pd.DataFrame(write_data, columns=columns)\n",
    "        path =  \"./\" + main_path + \"/\" + area +\"_\"+str(header) + \"_\" + str(num_rows) + \".csv\" #defining the path as the name of the header, plus the number of rows \n",
    "        df.to_csv(path, index=False)\n",
    "\n",
    "    "
   ]
  },
  {
   "cell_type": "code",
   "execution_count": 30,
   "metadata": {},
   "outputs": [
    {
     "data": {
      "text/html": [
       "<div>\n",
       "<style scoped>\n",
       "    .dataframe tbody tr th:only-of-type {\n",
       "        vertical-align: middle;\n",
       "    }\n",
       "\n",
       "    .dataframe tbody tr th {\n",
       "        vertical-align: top;\n",
       "    }\n",
       "\n",
       "    .dataframe thead th {\n",
       "        text-align: right;\n",
       "    }\n",
       "</style>\n",
       "<table border=\"1\" class=\"dataframe\">\n",
       "  <thead>\n",
       "    <tr style=\"text-align: right;\">\n",
       "      <th></th>\n",
       "      <th>sample percentage and category</th>\n",
       "      <th>% for Clinton</th>\n",
       "      <th>% for Trump</th>\n",
       "      <th>% for other/no answer</th>\n",
       "    </tr>\n",
       "  </thead>\n",
       "  <tbody>\n",
       "    <tr>\n",
       "      <th>0</th>\n",
       "      <td>urban area: 39%</td>\n",
       "      <td>61.0</td>\n",
       "      <td>34.0</td>\n",
       "      <td>5.0</td>\n",
       "    </tr>\n",
       "    <tr>\n",
       "      <th>1</th>\n",
       "      <td>suburban area: 34%</td>\n",
       "      <td>39.0</td>\n",
       "      <td>55.0</td>\n",
       "      <td>6.0</td>\n",
       "    </tr>\n",
       "    <tr>\n",
       "      <th>2</th>\n",
       "      <td>rural area: 27%</td>\n",
       "      <td>35.0</td>\n",
       "      <td>62.0</td>\n",
       "      <td>3.0</td>\n",
       "    </tr>\n",
       "    <tr>\n",
       "      <th>3</th>\n",
       "      <td>predicted % total vote share</td>\n",
       "      <td>46.5</td>\n",
       "      <td>48.7</td>\n",
       "      <td>4.8</td>\n",
       "    </tr>\n",
       "  </tbody>\n",
       "</table>\n",
       "</div>"
      ],
      "text/plain": [
       "  sample percentage and category  % for Clinton  % for Trump  \\\n",
       "0                urban area: 39%           61.0         34.0   \n",
       "1             suburban area: 34%           39.0         55.0   \n",
       "2                rural area: 27%           35.0         62.0   \n",
       "3   predicted % total vote share           46.5         48.7   \n",
       "\n",
       "   % for other/no answer  \n",
       "0                    5.0  \n",
       "1                    6.0  \n",
       "2                    3.0  \n",
       "3                    4.8  "
      ]
     },
     "execution_count": 30,
     "metadata": {},
     "output_type": "execute_result"
    }
   ],
   "source": [
    "#testing reading of exit poll saved csv file\n",
    "df = pd.read_csv(\"./2016_presidential_data/wisconsin_area type_3.csv\", sep=\",\")\n",
    "df.head(n=10)"
   ]
  }
 ],
 "metadata": {
  "kernelspec": {
   "display_name": "Python 3",
   "language": "python",
   "name": "python3"
  },
  "language_info": {
   "codemirror_mode": {
    "name": "ipython",
    "version": 3
   },
   "file_extension": ".py",
   "mimetype": "text/x-python",
   "name": "python",
   "nbconvert_exporter": "python",
   "pygments_lexer": "ipython3",
   "version": "3.10.6"
  },
  "orig_nbformat": 4
 },
 "nbformat": 4,
 "nbformat_minor": 2
}
