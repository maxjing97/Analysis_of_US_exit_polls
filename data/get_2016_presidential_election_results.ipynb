{
 "cells": [
  {
   "cell_type": "markdown",
   "metadata": {},
   "source": [
    "# getting presidential election results on the national level"
   ]
  },
  {
   "cell_type": "markdown",
   "metadata": {},
   "source": [
    "This jupyter notebook is not used directly by the web application but this is how data is scraped from the website. "
   ]
  },
  {
   "cell_type": "markdown",
   "metadata": {},
   "source": [
    "## scraping exit poll data from CNN"
   ]
  },
  {
   "cell_type": "code",
   "execution_count": 1,
   "metadata": {},
   "outputs": [
    {
     "name": "stderr",
     "output_type": "stream",
     "text": [
      "C:\\Users\\maxji\\AppData\\Local\\Temp\\ipykernel_5664\\2514387472.py:10: DeprecationWarning: headless property is deprecated, instead use add_argument('--headless') or add_argument('--headless=new')\n",
      "  options.headless = True\n"
     ]
    }
   ],
   "source": [
    "#connecting to the url \n",
    "import pandas as pd\n",
    "from selenium import webdriver\n",
    "from selenium.webdriver.common.keys import Keys\n",
    "from selenium.webdriver.common.by import By\n",
    "from selenium import webdriver\n",
    "from selenium.webdriver.chrome.options import Options\n",
    "\n",
    "options = Options()\n",
    "options.headless = True\n",
    "options.add_argument(\"--window-size=1920,1200\")\n",
    "driver=webdriver.Chrome(options=options)\n",
    "\n",
    "url=\"https://www.cnn.com/election/2016/results/exit-polls/national/president\"\n",
    "driver.get(url)\n",
    "\n"
   ]
  },
  {
   "cell_type": "code",
   "execution_count": 25,
   "metadata": {},
   "outputs": [],
   "source": [
    "#locating all divs that contain tables and the name of the table, according to the format of the website\n",
    "\n",
    "all_tables = driver.find_element(By.XPATH, \"//div[@class='exit-poll-list exit-poll-list--framed']\")#setting the div that wraps all the tables\n",
    "table_divs = all_tables.find_elements(By.XPATH, \"//div[@class='exit-poll-table exit-poll-table--framed']\") #finding the list of separate table divs from the container found above"
   ]
  },
  {
   "cell_type": "code",
   "execution_count": 35,
   "metadata": {},
   "outputs": [
    {
     "name": "stderr",
     "output_type": "stream",
     "text": [
      "A subdirectory or file 2016_presidential_data already exists.\n"
     ]
    }
   ],
   "source": [
    "#extracting the data by looping through the table divs\n",
    "\n",
    "#make a new folder \n",
    "main_path = \"2016_presidential_data\"\n",
    "!mkdir {main_path}\n",
    "#categories to save csv data for\n",
    "\n",
    "#create a new directory\n",
    "for table_div in table_divs:\n",
    "    #find current header or the table name\n",
    "    header = table_div.find_element(By.TAG_NAME, \"h3\") #get current \n",
    "\n",
    "    #only save data that belongs to these categories\n",
    "\n",
    "    "
   ]
  }
 ],
 "metadata": {
  "kernelspec": {
   "display_name": "Python 3",
   "language": "python",
   "name": "python3"
  },
  "language_info": {
   "codemirror_mode": {
    "name": "ipython",
    "version": 3
   },
   "file_extension": ".py",
   "mimetype": "text/x-python",
   "name": "python",
   "nbconvert_exporter": "python",
   "pygments_lexer": "ipython3",
   "version": "3.10.6"
  },
  "orig_nbformat": 4
 },
 "nbformat": 4,
 "nbformat_minor": 2
}
